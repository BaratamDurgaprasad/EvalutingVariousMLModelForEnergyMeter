{
  "nbformat": 4,
  "nbformat_minor": 0,
  "metadata": {
    "colab": {
      "provenance": []
    },
    "kernelspec": {
      "name": "python3",
      "display_name": "Python 3"
    },
    "language_info": {
      "name": "python"
    }
  },
  "cells": [
    {
      "cell_type": "markdown",
      "source": [
        "Baratam Durgaprasad\n"
      ],
      "metadata": {
        "id": "GnTWC6RIVO9Y"
      }
    },
    {
      "cell_type": "code",
      "source": [
        "from pandas import read_csv\n",
        "from matplotlib import pyplot"
      ],
      "metadata": {
        "id": "I-50gnswVWE3"
      },
      "execution_count": null,
      "outputs": []
    },
    {
      "cell_type": "code",
      "source": [
        "filename = \"Energy Meter.csv\""
      ],
      "metadata": {
        "id": "Azod7xqSoRAN"
      },
      "execution_count": null,
      "outputs": []
    },
    {
      "cell_type": "code",
      "source": [
        "names = ('Voltage','Current','Power','Class')"
      ],
      "metadata": {
        "id": "MOonRbnpoX0H"
      },
      "execution_count": null,
      "outputs": []
    },
    {
      "cell_type": "code",
      "source": [
        "dataset = read_csv(filename,names=names)"
      ],
      "metadata": {
        "id": "JWvFMvCTofA7"
      },
      "execution_count": null,
      "outputs": []
    },
    {
      "cell_type": "code",
      "source": [
        "from sklearn.discriminant_analysis import LinearDiscriminantAnalysis\n",
        "from sklearn.linear_model import LogisticRegression\n",
        "from sklearn.tree import DecisionTreeClassifier\n",
        "from sklearn.neighbors import KNeighborsClassifier\n",
        "from sklearn.naive_bayes import GaussianNB\n",
        "from sklearn.svm import SVC\n",
        "\n",
        "from sklearn.model_selection import train_test_split\n",
        "from sklearn.model_selection import cross_val_score\n",
        "from sklearn.model_selection import StratifiedKFold"
      ],
      "metadata": {
        "id": "RHO7Fz08okAg"
      },
      "execution_count": null,
      "outputs": []
    },
    {
      "cell_type": "code",
      "source": [
        "array = dataset.values\n",
        "X = array[:,0:3]\n",
        "y = array[:,3]\n",
        "X_train,X_validation,Y_train,Y_validation = train_test_split(X,y,test_size=0.20,random_state=1)\n"
      ],
      "metadata": {
        "id": "UG9Zxsd-pud1"
      },
      "execution_count": null,
      "outputs": []
    },
    {
      "cell_type": "code",
      "source": [
        "models = []\n",
        "models.append(('LR',LogisticRegression(solver='liblinear',multi_class='ovr')))\n",
        "models.append(('LDA',LinearDiscriminantAnalysis()))\n",
        "models.append(('KNN',KNeighborsClassifier()))\n",
        "models.append(('CART',DecisionTreeClassifier()))\n",
        "models.append(('NB',GaussianNB()))\n",
        "models.append(('SVM',SVC(gamma='auto')))\n"
      ],
      "metadata": {
        "id": "qWbCS4wortmN"
      },
      "execution_count": null,
      "outputs": []
    },
    {
      "cell_type": "code",
      "source": [
        "#validation\n",
        "results = []\n",
        "names = []\n",
        "res = []\n",
        "for name,model in models:\n",
        "  kfold =  StratifiedKFold(n_splits=10,random_state=None)\n",
        "  cv_results = cross_val_score(model,X_train,Y_train,cv=kfold,scoring = 'accuracy')\n",
        "  results.append(cv_results)\n",
        "  names.append(name)\n",
        "  res.append(cv_results.mean())\n",
        "  print('%s: %f (%f)'% (name,cv_results.mean(),cv_results.std()))\n",
        "\n",
        "pyplot.ylim(.990,.999)\n",
        "pyplot.bar(names,res,color = 'blue',width =0.5)\n",
        "\n",
        "pyplot.title('Algorithm Comparision')\n",
        "pyplot.show()\n"
      ],
      "metadata": {
        "colab": {
          "base_uri": "https://localhost:8080/",
          "height": 556
        },
        "id": "p0ddlOcwtcwf",
        "outputId": "c8efa282-3f78-4959-df11-e74e49ab0316"
      },
      "execution_count": null,
      "outputs": [
        {
          "output_type": "stream",
          "name": "stdout",
          "text": [
            "LR: 0.996875 (0.009375)\n",
            "LDA: 0.996875 (0.009375)\n",
            "KNN: 0.993750 (0.018750)\n",
            "CART: 0.993750 (0.018750)\n",
            "NB: 0.990625 (0.020010)\n",
            "SVM: 0.990625 (0.020010)\n"
          ]
        },
        {
          "output_type": "display_data",
          "data": {
            "text/plain": [
              "<Figure size 640x480 with 1 Axes>"
            ],
            "image/png": "[encoded data removed]"
          },
          "metadata": {}
        }
      ]
    },
    {
      "cell_type": "code",
      "source": [],
      "metadata": {
        "id": "vWFE6XYBvOoo"
      },
      "execution_count": null,
      "outputs": []
    }
  ]
}